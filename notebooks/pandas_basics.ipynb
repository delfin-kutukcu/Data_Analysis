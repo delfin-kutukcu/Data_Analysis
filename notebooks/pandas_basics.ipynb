{
 "cells": [
  {
   "cell_type": "markdown",
   "metadata": {},
   "source": [
    "# Music Video Data Analysis\n",
    "\n",
    "This notebook covers data cleaning, transformation, visualization, and analysis of a dataset containing information about the most viewed music videos of all time. The dataset includes various attributes such as the total views, artist, and video title.\n",
    "\n",
    "## 1. Import Necessary Libraries\n",
    "\n",
    "We begin by importing the necessary libraries for data analysis, visualization, and transformation.\n"
   ]
  },
  {
   "cell_type": "code",
   "execution_count": 116,
   "metadata": {},
   "outputs": [],
   "source": [
    "import pandas as pd\n",
    "import numpy as np\n",
    "import matplotlib.pyplot as plt\n",
    "import seaborn as sns\n",
    "from sklearn.preprocessing import StandardScaler, MinMaxScaler\n",
    "from pathlib import Path\n",
    "\n",
    "# Define paths\n",
    "project_root = Path().resolve().parent  # assumes notebook is in /notebooks/\n",
    "datasets_path = project_root / \"datasets\"\n",
    "visuals_path = project_root / \"visuals\"\n",
    "visuals_path.mkdir(parents=True, exist_ok=True)\n",
    "\n"
   ]
  },
  {
   "cell_type": "code",
   "execution_count": 117,
   "metadata": {},
   "outputs": [
    {
     "name": "stdout",
     "output_type": "stream",
     "text": [
      "The dataset is located at: Most viewed music videos of all time.csv\n"
     ]
    }
   ],
   "source": [
    "# Display the file path\n",
    "print(f\"The dataset is located at: {file_path}\")"
   ]
  },
  {
   "cell_type": "markdown",
   "metadata": {},
   "source": [
    "## 2. Load the Dataset\n",
    "\n",
    "The dataset is loaded into a pandas DataFrame. We will check the initial structure of the data after loading it.\n"
   ]
  },
  {
   "cell_type": "code",
   "execution_count": null,
   "metadata": {},
   "outputs": [
    {
     "ename": "FileNotFoundError",
     "evalue": "[Errno 2] No such file or directory: 'C:\\\\Users\\\\Delfin\\\\Python\\\\Data_Analysis\\\\datasets\\\\music_videos.csv'",
     "output_type": "error",
     "traceback": [
      "\u001b[31m---------------------------------------------------------------------------\u001b[39m",
      "\u001b[31mFileNotFoundError\u001b[39m                         Traceback (most recent call last)",
      "\u001b[36mCell\u001b[39m\u001b[36m \u001b[39m\u001b[32mIn[118]\u001b[39m\u001b[32m, line 2\u001b[39m\n\u001b[32m      1\u001b[39m \u001b[38;5;66;03m# Load the dataset from the datasets folder\u001b[39;00m\n\u001b[32m----> \u001b[39m\u001b[32m2\u001b[39m df = \u001b[43mpd\u001b[49m\u001b[43m.\u001b[49m\u001b[43mread_csv\u001b[49m\u001b[43m(\u001b[49m\u001b[43mdatasets_path\u001b[49m\u001b[43m \u001b[49m\u001b[43m/\u001b[49m\u001b[43m \u001b[49m\u001b[33;43m\"\u001b[39;49m\u001b[33;43mmusic_videos.csv\u001b[39;49m\u001b[33;43m\"\u001b[39;49m\u001b[43m)\u001b[49m\n\u001b[32m      4\u001b[39m \u001b[38;5;66;03m# Display the first 5 rows\u001b[39;00m\n\u001b[32m      5\u001b[39m df.head()\n",
      "\u001b[36mFile \u001b[39m\u001b[32mc:\\Users\\Delfin\\AppData\\Local\\Programs\\Python\\Python313\\Lib\\site-packages\\pandas\\io\\parsers\\readers.py:1026\u001b[39m, in \u001b[36mread_csv\u001b[39m\u001b[34m(filepath_or_buffer, sep, delimiter, header, names, index_col, usecols, dtype, engine, converters, true_values, false_values, skipinitialspace, skiprows, skipfooter, nrows, na_values, keep_default_na, na_filter, verbose, skip_blank_lines, parse_dates, infer_datetime_format, keep_date_col, date_parser, date_format, dayfirst, cache_dates, iterator, chunksize, compression, thousands, decimal, lineterminator, quotechar, quoting, doublequote, escapechar, comment, encoding, encoding_errors, dialect, on_bad_lines, delim_whitespace, low_memory, memory_map, float_precision, storage_options, dtype_backend)\u001b[39m\n\u001b[32m   1013\u001b[39m kwds_defaults = _refine_defaults_read(\n\u001b[32m   1014\u001b[39m     dialect,\n\u001b[32m   1015\u001b[39m     delimiter,\n\u001b[32m   (...)\u001b[39m\u001b[32m   1022\u001b[39m     dtype_backend=dtype_backend,\n\u001b[32m   1023\u001b[39m )\n\u001b[32m   1024\u001b[39m kwds.update(kwds_defaults)\n\u001b[32m-> \u001b[39m\u001b[32m1026\u001b[39m \u001b[38;5;28;01mreturn\u001b[39;00m \u001b[43m_read\u001b[49m\u001b[43m(\u001b[49m\u001b[43mfilepath_or_buffer\u001b[49m\u001b[43m,\u001b[49m\u001b[43m \u001b[49m\u001b[43mkwds\u001b[49m\u001b[43m)\u001b[49m\n",
      "\u001b[36mFile \u001b[39m\u001b[32mc:\\Users\\Delfin\\AppData\\Local\\Programs\\Python\\Python313\\Lib\\site-packages\\pandas\\io\\parsers\\readers.py:620\u001b[39m, in \u001b[36m_read\u001b[39m\u001b[34m(filepath_or_buffer, kwds)\u001b[39m\n\u001b[32m    617\u001b[39m _validate_names(kwds.get(\u001b[33m\"\u001b[39m\u001b[33mnames\u001b[39m\u001b[33m\"\u001b[39m, \u001b[38;5;28;01mNone\u001b[39;00m))\n\u001b[32m    619\u001b[39m \u001b[38;5;66;03m# Create the parser.\u001b[39;00m\n\u001b[32m--> \u001b[39m\u001b[32m620\u001b[39m parser = \u001b[43mTextFileReader\u001b[49m\u001b[43m(\u001b[49m\u001b[43mfilepath_or_buffer\u001b[49m\u001b[43m,\u001b[49m\u001b[43m \u001b[49m\u001b[43m*\u001b[49m\u001b[43m*\u001b[49m\u001b[43mkwds\u001b[49m\u001b[43m)\u001b[49m\n\u001b[32m    622\u001b[39m \u001b[38;5;28;01mif\u001b[39;00m chunksize \u001b[38;5;129;01mor\u001b[39;00m iterator:\n\u001b[32m    623\u001b[39m     \u001b[38;5;28;01mreturn\u001b[39;00m parser\n",
      "\u001b[36mFile \u001b[39m\u001b[32mc:\\Users\\Delfin\\AppData\\Local\\Programs\\Python\\Python313\\Lib\\site-packages\\pandas\\io\\parsers\\readers.py:1620\u001b[39m, in \u001b[36mTextFileReader.__init__\u001b[39m\u001b[34m(self, f, engine, **kwds)\u001b[39m\n\u001b[32m   1617\u001b[39m     \u001b[38;5;28mself\u001b[39m.options[\u001b[33m\"\u001b[39m\u001b[33mhas_index_names\u001b[39m\u001b[33m\"\u001b[39m] = kwds[\u001b[33m\"\u001b[39m\u001b[33mhas_index_names\u001b[39m\u001b[33m\"\u001b[39m]\n\u001b[32m   1619\u001b[39m \u001b[38;5;28mself\u001b[39m.handles: IOHandles | \u001b[38;5;28;01mNone\u001b[39;00m = \u001b[38;5;28;01mNone\u001b[39;00m\n\u001b[32m-> \u001b[39m\u001b[32m1620\u001b[39m \u001b[38;5;28mself\u001b[39m._engine = \u001b[38;5;28;43mself\u001b[39;49m\u001b[43m.\u001b[49m\u001b[43m_make_engine\u001b[49m\u001b[43m(\u001b[49m\u001b[43mf\u001b[49m\u001b[43m,\u001b[49m\u001b[43m \u001b[49m\u001b[38;5;28;43mself\u001b[39;49m\u001b[43m.\u001b[49m\u001b[43mengine\u001b[49m\u001b[43m)\u001b[49m\n",
      "\u001b[36mFile \u001b[39m\u001b[32mc:\\Users\\Delfin\\AppData\\Local\\Programs\\Python\\Python313\\Lib\\site-packages\\pandas\\io\\parsers\\readers.py:1880\u001b[39m, in \u001b[36mTextFileReader._make_engine\u001b[39m\u001b[34m(self, f, engine)\u001b[39m\n\u001b[32m   1878\u001b[39m     \u001b[38;5;28;01mif\u001b[39;00m \u001b[33m\"\u001b[39m\u001b[33mb\u001b[39m\u001b[33m\"\u001b[39m \u001b[38;5;129;01mnot\u001b[39;00m \u001b[38;5;129;01min\u001b[39;00m mode:\n\u001b[32m   1879\u001b[39m         mode += \u001b[33m\"\u001b[39m\u001b[33mb\u001b[39m\u001b[33m\"\u001b[39m\n\u001b[32m-> \u001b[39m\u001b[32m1880\u001b[39m \u001b[38;5;28mself\u001b[39m.handles = \u001b[43mget_handle\u001b[49m\u001b[43m(\u001b[49m\n\u001b[32m   1881\u001b[39m \u001b[43m    \u001b[49m\u001b[43mf\u001b[49m\u001b[43m,\u001b[49m\n\u001b[32m   1882\u001b[39m \u001b[43m    \u001b[49m\u001b[43mmode\u001b[49m\u001b[43m,\u001b[49m\n\u001b[32m   1883\u001b[39m \u001b[43m    \u001b[49m\u001b[43mencoding\u001b[49m\u001b[43m=\u001b[49m\u001b[38;5;28;43mself\u001b[39;49m\u001b[43m.\u001b[49m\u001b[43moptions\u001b[49m\u001b[43m.\u001b[49m\u001b[43mget\u001b[49m\u001b[43m(\u001b[49m\u001b[33;43m\"\u001b[39;49m\u001b[33;43mencoding\u001b[39;49m\u001b[33;43m\"\u001b[39;49m\u001b[43m,\u001b[49m\u001b[43m \u001b[49m\u001b[38;5;28;43;01mNone\u001b[39;49;00m\u001b[43m)\u001b[49m\u001b[43m,\u001b[49m\n\u001b[32m   1884\u001b[39m \u001b[43m    \u001b[49m\u001b[43mcompression\u001b[49m\u001b[43m=\u001b[49m\u001b[38;5;28;43mself\u001b[39;49m\u001b[43m.\u001b[49m\u001b[43moptions\u001b[49m\u001b[43m.\u001b[49m\u001b[43mget\u001b[49m\u001b[43m(\u001b[49m\u001b[33;43m\"\u001b[39;49m\u001b[33;43mcompression\u001b[39;49m\u001b[33;43m\"\u001b[39;49m\u001b[43m,\u001b[49m\u001b[43m \u001b[49m\u001b[38;5;28;43;01mNone\u001b[39;49;00m\u001b[43m)\u001b[49m\u001b[43m,\u001b[49m\n\u001b[32m   1885\u001b[39m \u001b[43m    \u001b[49m\u001b[43mmemory_map\u001b[49m\u001b[43m=\u001b[49m\u001b[38;5;28;43mself\u001b[39;49m\u001b[43m.\u001b[49m\u001b[43moptions\u001b[49m\u001b[43m.\u001b[49m\u001b[43mget\u001b[49m\u001b[43m(\u001b[49m\u001b[33;43m\"\u001b[39;49m\u001b[33;43mmemory_map\u001b[39;49m\u001b[33;43m\"\u001b[39;49m\u001b[43m,\u001b[49m\u001b[43m \u001b[49m\u001b[38;5;28;43;01mFalse\u001b[39;49;00m\u001b[43m)\u001b[49m\u001b[43m,\u001b[49m\n\u001b[32m   1886\u001b[39m \u001b[43m    \u001b[49m\u001b[43mis_text\u001b[49m\u001b[43m=\u001b[49m\u001b[43mis_text\u001b[49m\u001b[43m,\u001b[49m\n\u001b[32m   1887\u001b[39m \u001b[43m    \u001b[49m\u001b[43merrors\u001b[49m\u001b[43m=\u001b[49m\u001b[38;5;28;43mself\u001b[39;49m\u001b[43m.\u001b[49m\u001b[43moptions\u001b[49m\u001b[43m.\u001b[49m\u001b[43mget\u001b[49m\u001b[43m(\u001b[49m\u001b[33;43m\"\u001b[39;49m\u001b[33;43mencoding_errors\u001b[39;49m\u001b[33;43m\"\u001b[39;49m\u001b[43m,\u001b[49m\u001b[43m \u001b[49m\u001b[33;43m\"\u001b[39;49m\u001b[33;43mstrict\u001b[39;49m\u001b[33;43m\"\u001b[39;49m\u001b[43m)\u001b[49m\u001b[43m,\u001b[49m\n\u001b[32m   1888\u001b[39m \u001b[43m    \u001b[49m\u001b[43mstorage_options\u001b[49m\u001b[43m=\u001b[49m\u001b[38;5;28;43mself\u001b[39;49m\u001b[43m.\u001b[49m\u001b[43moptions\u001b[49m\u001b[43m.\u001b[49m\u001b[43mget\u001b[49m\u001b[43m(\u001b[49m\u001b[33;43m\"\u001b[39;49m\u001b[33;43mstorage_options\u001b[39;49m\u001b[33;43m\"\u001b[39;49m\u001b[43m,\u001b[49m\u001b[43m \u001b[49m\u001b[38;5;28;43;01mNone\u001b[39;49;00m\u001b[43m)\u001b[49m\u001b[43m,\u001b[49m\n\u001b[32m   1889\u001b[39m \u001b[43m\u001b[49m\u001b[43m)\u001b[49m\n\u001b[32m   1890\u001b[39m \u001b[38;5;28;01massert\u001b[39;00m \u001b[38;5;28mself\u001b[39m.handles \u001b[38;5;129;01mis\u001b[39;00m \u001b[38;5;129;01mnot\u001b[39;00m \u001b[38;5;28;01mNone\u001b[39;00m\n\u001b[32m   1891\u001b[39m f = \u001b[38;5;28mself\u001b[39m.handles.handle\n",
      "\u001b[36mFile \u001b[39m\u001b[32mc:\\Users\\Delfin\\AppData\\Local\\Programs\\Python\\Python313\\Lib\\site-packages\\pandas\\io\\common.py:873\u001b[39m, in \u001b[36mget_handle\u001b[39m\u001b[34m(path_or_buf, mode, encoding, compression, memory_map, is_text, errors, storage_options)\u001b[39m\n\u001b[32m    868\u001b[39m \u001b[38;5;28;01melif\u001b[39;00m \u001b[38;5;28misinstance\u001b[39m(handle, \u001b[38;5;28mstr\u001b[39m):\n\u001b[32m    869\u001b[39m     \u001b[38;5;66;03m# Check whether the filename is to be opened in binary mode.\u001b[39;00m\n\u001b[32m    870\u001b[39m     \u001b[38;5;66;03m# Binary mode does not support 'encoding' and 'newline'.\u001b[39;00m\n\u001b[32m    871\u001b[39m     \u001b[38;5;28;01mif\u001b[39;00m ioargs.encoding \u001b[38;5;129;01mand\u001b[39;00m \u001b[33m\"\u001b[39m\u001b[33mb\u001b[39m\u001b[33m\"\u001b[39m \u001b[38;5;129;01mnot\u001b[39;00m \u001b[38;5;129;01min\u001b[39;00m ioargs.mode:\n\u001b[32m    872\u001b[39m         \u001b[38;5;66;03m# Encoding\u001b[39;00m\n\u001b[32m--> \u001b[39m\u001b[32m873\u001b[39m         handle = \u001b[38;5;28;43mopen\u001b[39;49m\u001b[43m(\u001b[49m\n\u001b[32m    874\u001b[39m \u001b[43m            \u001b[49m\u001b[43mhandle\u001b[49m\u001b[43m,\u001b[49m\n\u001b[32m    875\u001b[39m \u001b[43m            \u001b[49m\u001b[43mioargs\u001b[49m\u001b[43m.\u001b[49m\u001b[43mmode\u001b[49m\u001b[43m,\u001b[49m\n\u001b[32m    876\u001b[39m \u001b[43m            \u001b[49m\u001b[43mencoding\u001b[49m\u001b[43m=\u001b[49m\u001b[43mioargs\u001b[49m\u001b[43m.\u001b[49m\u001b[43mencoding\u001b[49m\u001b[43m,\u001b[49m\n\u001b[32m    877\u001b[39m \u001b[43m            \u001b[49m\u001b[43merrors\u001b[49m\u001b[43m=\u001b[49m\u001b[43merrors\u001b[49m\u001b[43m,\u001b[49m\n\u001b[32m    878\u001b[39m \u001b[43m            \u001b[49m\u001b[43mnewline\u001b[49m\u001b[43m=\u001b[49m\u001b[33;43m\"\u001b[39;49m\u001b[33;43m\"\u001b[39;49m\u001b[43m,\u001b[49m\n\u001b[32m    879\u001b[39m \u001b[43m        \u001b[49m\u001b[43m)\u001b[49m\n\u001b[32m    880\u001b[39m     \u001b[38;5;28;01melse\u001b[39;00m:\n\u001b[32m    881\u001b[39m         \u001b[38;5;66;03m# Binary mode\u001b[39;00m\n\u001b[32m    882\u001b[39m         handle = \u001b[38;5;28mopen\u001b[39m(handle, ioargs.mode)\n",
      "\u001b[31mFileNotFoundError\u001b[39m: [Errno 2] No such file or directory: 'C:\\\\Users\\\\Delfin\\\\Python\\\\Data_Analysis\\\\datasets\\\\music_videos.csv'"
     ]
    }
   ],
   "source": [
    "# Load the dataset from the datasets folder\n",
    "df = pd.read_csv(datasets_path / \"Most viewed music videos of all time.csv\")\n",
    "\n",
    "# Display the first 5 rows\n",
    "df.head()\n"
   ]
  },
  {
   "cell_type": "markdown",
   "metadata": {},
   "source": [
    "## 3. Data Cleaning\n",
    "\n",
    "We clean the data by:\n",
    " - Converting the 'Total Views' column to numeric format (removing commas and converting to integers).\n",
    " - Extracting artist and song names from the 'Video' column."
   ]
  },
  {
   "cell_type": "code",
   "execution_count": null,
   "metadata": {},
   "outputs": [
    {
     "name": "stdout",
     "output_type": "stream",
     "text": [
      "artists_info.csv not found. Skipping merge step.\n"
     ]
    }
   ],
   "source": [
    "# Convert 'Total Views' to numeric (remove commas and convert to integers)\n",
    "df['Total Views'] = df['Total Views'].replace({',': ''}, regex=True).astype(int)\n",
    "\n",
    "# OPTIONAL: Merge with additional artist data if available\n",
    "try:\n",
    "    artists_info = pd.read_csv(datasets_path / \"artists_info.csv\")\n",
    "    df = df.merge(artists_info, on=\"Artist\", how=\"left\")\n",
    "    print(\"Merged dataset with artist info:\")\n",
    "    print(df.head())\n",
    "except FileNotFoundError:\n",
    "    print(\"artists_info.csv not found. Skipping merge step.\")\n",
    "\n",
    "# Extract artist names from 'Video' column (assuming format \"Artist - Song\")\n",
    "df['Artist'] = df['Video'].str.split(' - ').str[0]\n",
    "df['Title'] = df['Video'].str.split(' - ').str[1]\n"
   ]
  },
  {
   "cell_type": "markdown",
   "metadata": {},
   "source": [
    "## 4. Checking for Missing Values\n",
    "\n",
    "Let's check for any missing values in the dataset and fill any missing numerical values with the mean.\n"
   ]
  },
  {
   "cell_type": "code",
   "execution_count": null,
   "metadata": {},
   "outputs": [],
   "source": [
    "# Check for missing values\n",
    "df.isnull().sum()\n",
    "\n",
    "# Fill missing numerical values with the mean\n",
    "df.fillna(df.select_dtypes(include=['number']).mean(), inplace=True)\n"
   ]
  },
  {
   "cell_type": "markdown",
   "metadata": {},
   "source": [
    "## 5. Descriptive Statistics\n",
    "\n",
    "We will now display basic statistics of the dataset, such as mean, standard deviation, etc.\n"
   ]
  },
  {
   "cell_type": "code",
   "execution_count": null,
   "metadata": {},
   "outputs": [
    {
     "data": {
      "text/html": [
       "<div>\n",
       "<style scoped>\n",
       "    .dataframe tbody tr th:only-of-type {\n",
       "        vertical-align: middle;\n",
       "    }\n",
       "\n",
       "    .dataframe tbody tr th {\n",
       "        vertical-align: top;\n",
       "    }\n",
       "\n",
       "    .dataframe thead th {\n",
       "        text-align: right;\n",
       "    }\n",
       "</style>\n",
       "<table border=\"1\" class=\"dataframe\">\n",
       "  <thead>\n",
       "    <tr style=\"text-align: right;\">\n",
       "      <th></th>\n",
       "      <th>Total Views</th>\n",
       "    </tr>\n",
       "  </thead>\n",
       "  <tbody>\n",
       "    <tr>\n",
       "      <th>count</th>\n",
       "      <td>2.500000e+03</td>\n",
       "    </tr>\n",
       "    <tr>\n",
       "      <th>mean</th>\n",
       "      <td>7.766757e+08</td>\n",
       "    </tr>\n",
       "    <tr>\n",
       "      <th>std</th>\n",
       "      <td>6.021257e+08</td>\n",
       "    </tr>\n",
       "    <tr>\n",
       "      <th>min</th>\n",
       "      <td>3.643821e+08</td>\n",
       "    </tr>\n",
       "    <tr>\n",
       "      <th>25%</th>\n",
       "      <td>4.423650e+08</td>\n",
       "    </tr>\n",
       "    <tr>\n",
       "      <th>50%</th>\n",
       "      <td>5.757849e+08</td>\n",
       "    </tr>\n",
       "    <tr>\n",
       "      <th>75%</th>\n",
       "      <td>8.643879e+08</td>\n",
       "    </tr>\n",
       "    <tr>\n",
       "      <th>max</th>\n",
       "      <td>8.669536e+09</td>\n",
       "    </tr>\n",
       "  </tbody>\n",
       "</table>\n",
       "</div>"
      ],
      "text/plain": [
       "        Total Views\n",
       "count  2.500000e+03\n",
       "mean   7.766757e+08\n",
       "std    6.021257e+08\n",
       "min    3.643821e+08\n",
       "25%    4.423650e+08\n",
       "50%    5.757849e+08\n",
       "75%    8.643879e+08\n",
       "max    8.669536e+09"
      ]
     },
     "execution_count": 105,
     "metadata": {},
     "output_type": "execute_result"
    }
   ],
   "source": [
    "# Display basic statistics\n",
    "df.describe()\n"
   ]
  },
  {
   "cell_type": "markdown",
   "metadata": {},
   "source": [
    "## 6. Standardization and Normalization\n",
    "\n",
    "We will standardize and normalize the 'Total Views' column:\n",
    "- Standardization will convert the values into a standard normal distribution.\n",
    "- Normalization will scale the values between 0 and 1.\n"
   ]
  },
  {
   "cell_type": "code",
   "execution_count": null,
   "metadata": {},
   "outputs": [],
   "source": [
    "# Standardization\n",
    "scaler = StandardScaler()\n",
    "numeric_columns = ['Total Views']  # Only standardize Total Views\n",
    "df_scaled = pd.DataFrame(scaler.fit_transform(df[numeric_columns]), columns=numeric_columns)\n",
    "\n",
    "# Normalization (Min-Max)\n",
    "minmax_scaler = MinMaxScaler()\n",
    "df_normalized = pd.DataFrame(minmax_scaler.fit_transform(df[numeric_columns]), columns=numeric_columns)\n",
    "\n",
    "# Join normalized views to the main dataframe\n",
    "df = df.join(df_normalized, rsuffix=\"_normalized\")"
   ]
  },
  {
   "cell_type": "markdown",
   "metadata": {},
   "source": [
    "## 7. Categorical Data Distribution\n",
    "\n",
    "Next, we will examine the unique values in categorical columns to understand the dataset better.\n"
   ]
  },
  {
   "cell_type": "code",
   "execution_count": null,
   "metadata": {},
   "outputs": [
    {
     "data": {
      "text/plain": [
       "Video     2498\n",
       "Artist    1590\n",
       "Title     2092\n",
       "dtype: int64"
      ]
     },
     "execution_count": 107,
     "metadata": {},
     "output_type": "execute_result"
    }
   ],
   "source": [
    "# Check unique values in categorical columns\n",
    "df.select_dtypes(include=['object']).nunique()\n"
   ]
  },
  {
   "cell_type": "markdown",
   "metadata": {},
   "source": [
    "## 8. Data Visualization\n",
    "\n",
    "We will visualize the following:\n",
    "1. The distribution of 'Total Views' with a histogram.\n",
    "2. The spread of views using a boxplot.\n",
    "3. The top 10 artists by total views.\n",
    "4. A placeholder for the correlation heatmap.\n"
   ]
  },
  {
   "cell_type": "code",
   "execution_count": null,
   "metadata": {},
   "outputs": [
    {
     "data": {
      "image/png": "[encoded data removed]",
      "text/plain": [
       "<Figure size 1500x1000 with 4 Axes>"
      ]
     },
     "metadata": {},
     "output_type": "display_data"
    }
   ],
   "source": [
    "# ========== DATA VISUALIZATION ==========\n",
    "\n",
    "plt.figure(figsize=(15, 10))\n",
    "\n",
    "# Histogram\n",
    "plt.subplot(2, 2, 1)\n",
    "sns.histplot(df['Total Views'], kde=True)\n",
    "plt.title(\"Total Views Distribution\")\n",
    "plt.savefig(visuals_path / \"total_views_histogram.png\")\n",
    "\n",
    "# Boxplot\n",
    "plt.subplot(2, 2, 2)\n",
    "sns.boxplot(data=df, y='Total Views')\n",
    "plt.title(\"Views Boxplot\")\n",
    "plt.savefig(visuals_path / \"total_views_boxplot.png\")\n",
    "\n",
    "\n",
    "# Top 10 Artists by Views\n",
    "plt.subplot(2, 2, 3)\n",
    "top_artists = df.groupby('Artist')['Total Views'].sum().nlargest(10)\n",
    "top_artists.plot(kind='bar', color='skyblue')\n",
    "plt.title(\"Top 10 Artists by Total Views\")\n",
    "plt.xticks(rotation=45)\n",
    "plt.savefig(visuals_path / \"top_10_artists_bar.png\")\n",
    "\n",
    "# Correlation Heatmap (since we only have one numeric column, this will be empty)\n",
    "plt.subplot(2, 2, 4)\n",
    "plt.text(0.5, 0.5, 'Not enough numeric columns\\nfor correlation matrix', \n",
    "         ha='center', va='center')\n",
    "plt.title(\"Correlation Matrix (Not Available)\")\n",
    "\n",
    "plt.tight_layout()\n",
    "plt.savefig(visuals_path / \"summary_4plots.png\")\n",
    "plt.show()\n"
   ]
  },
  {
   "cell_type": "markdown",
   "metadata": {},
   "source": [
    "## 9. GroupBy Operations\n",
    "\n",
    "Now, we will group the data by the 'Artist' column and:\n",
    "- Show the average views per artist.\n",
    "- Show the total views per artist.\n"
   ]
  },
  {
   "cell_type": "code",
   "execution_count": null,
   "metadata": {},
   "outputs": [
    {
     "name": "stdout",
     "output_type": "stream",
     "text": [
      "\n",
      "Average Views per Artist:\n",
      "Artist\n",
      "El Chombo, Dancing Green Alien                                                                         4.988391e+09\n",
      "श्री हनुमान चालीसा 🌺🙏| Shree Hanuman Chalisa Original Video |🙏🌺| GULSHAN KUMAR | HARIHARAN |Full HD    4.429926e+09\n",
      "Passenger | Let Her Go (Official Video)                                                                3.786467e+09\n",
      "Major Lazer & DJ Snake                                                                                 3.739785e+09\n",
      "The Gummy Bear Song                                                                                    3.606587e+09\n",
      "Name: Total Views, dtype: float64\n",
      "\n",
      "Total Views per Artist:\n",
      "Artist\n",
      "Justin Bieber    22373813970\n",
      "Ed Sheeran       21976634827\n",
      "Katy Perry       21327572815\n",
      "Taylor Swift     18446086710\n",
      "BLACKPINK        17707859436\n",
      "Name: Total Views, dtype: int64\n"
     ]
    }
   ],
   "source": [
    "# ========== GROUPBY OPERATIONS ==========\n",
    "\n",
    "# Group by Artist and show mean views\n",
    "grouped_df = df.groupby('Artist').mean(numeric_only=True)\n",
    "print(\"\\nAverage Views per Artist:\")\n",
    "print(grouped_df['Total Views'].sort_values(ascending=False).head())\n",
    "\n",
    "# Group by Artist and show total views\n",
    "artist_views = df.groupby('Artist')['Total Views'].sum().sort_values(ascending=False)\n",
    "print(\"\\nTotal Views per Artist:\")\n",
    "print(artist_views.head())\n"
   ]
  },
  {
   "cell_type": "markdown",
   "metadata": {},
   "source": [
    "## 10. Filtering Operations\n",
    "\n",
    "We will demonstrate filtering techniques using:\n",
    "- Basic filtering for videos with more than 1 billion views.\n",
    "- Querying the dataset for videos with views between 500 million and 1 billion.\n",
    "- Using the `where()` function to filter videos with more than 800 million views.\n"
   ]
  },
  {
   "cell_type": "code",
   "execution_count": null,
   "metadata": {},
   "outputs": [
    {
     "name": "stdout",
     "output_type": "stream",
     "text": [
      "\n",
      "Videos with >1B views (shape): (483, 5)\n",
      "\n",
      "Videos with 500M-1B views (query):\n",
      "                                                Artist  \\\n",
      "483                                         The Weeknd   \n",
      "484  BTS (방탄소년단) '피 땀 눈물 (Blood Sweat & Tears)' Off...   \n",
      "485                                        Miley Cyrus   \n",
      "486                                             Halsey   \n",
      "487                                        Miley Cyrus   \n",
      "\n",
      "                                 Title  Total Views  \n",
      "483  Call Out My Name (Official Video)    997326240  \n",
      "484                                NaN    997162269  \n",
      "485           Flowers (Official Video)    996882865  \n",
      "486                         Without Me    995459472  \n",
      "487     We Can't Stop (Official Video)    994283797  \n",
      "\n",
      "Videos with >800M views (where):\n",
      "        Artist                                              Title  \\\n",
      "0   Luis Fonsi                         Despacito ft. Daddy Yankee   \n",
      "1  Wiz Khalifa  See You Again ft. Charlie Puth [Official Video...   \n",
      "2   Ed Sheeran                Shape of You (Official Music Video)   \n",
      "3  Mark Ronson        Uptown Funk (Official Video) ft. Bruno Mars   \n",
      "4          PSY                           GANGNAM STYLE(강남스타일) M/V   \n",
      "\n",
      "    Total Views  \n",
      "0  8.669536e+09  \n",
      "1  6.595015e+09  \n",
      "2  6.423962e+09  \n",
      "3  5.500004e+09  \n",
      "4  5.494772e+09  \n"
     ]
    }
   ],
   "source": [
    "# ========== FILTERING OPERATIONS ==========\n",
    "\n",
    "# Basic filtering\n",
    "filtered_df = df[df['Total Views'] > 1_000_000_000]\n",
    "print(\"\\nVideos with >1B views (shape):\", filtered_df.shape)\n",
    "\n",
    "# Using query()\n",
    "query_df = df.query(\"`Total Views` > 500000000 and `Total Views` < 1000000000\")\n",
    "print(\"\\nVideos with 500M-1B views (query):\")\n",
    "print(query_df[['Artist', 'Title', 'Total Views']].head())\n",
    "\n",
    "# Using where()\n",
    "where_df = df.where(df['Total Views'] > 800000000).dropna()\n",
    "print(\"\\nVideos with >800M views (where):\")\n",
    "print(where_df[['Artist', 'Title', 'Total Views']].head())\n"
   ]
  },
  {
   "cell_type": "markdown",
   "metadata": {},
   "source": [
    "## 11. Data Analysis\n",
    "\n",
    "We will analyze the data by:\n",
    "- Displaying the top 10 most viewed videos.\n",
    "- Analyzing the distribution of views.\n",
    "- Identifying the artists with the most videos in the top list.\n"
   ]
  },
  {
   "cell_type": "code",
   "execution_count": null,
   "metadata": {},
   "outputs": [
    {
     "name": "stdout",
     "output_type": "stream",
     "text": [
      "\n",
      "Top 10 Most Viewed Videos:\n",
      "                                              Artist  \\\n",
      "0                                         Luis Fonsi   \n",
      "1                                        Wiz Khalifa   \n",
      "2                                         Ed Sheeran   \n",
      "3                                        Mark Ronson   \n",
      "4                                                PSY   \n",
      "5                                         Crazy Frog   \n",
      "6                     El Chombo, Dancing Green Alien   \n",
      "7  श्री हनुमान चालीसा 🌺🙏| Shree Hanuman Chalisa O...   \n",
      "8                                           Maroon 5   \n",
      "9                                            Shakira   \n",
      "\n",
      "                                               Title  Total Views  \n",
      "0                         Despacito ft. Daddy Yankee   8669535825  \n",
      "1  See You Again ft. Charlie Puth [Official Video...   6595015426  \n",
      "2                Shape of You (Official Music Video)   6423961815  \n",
      "3        Uptown Funk (Official Video) ft. Bruno Mars   5500003713  \n",
      "4                           GANGNAM STYLE(강남스타일) M/V   5494771725  \n",
      "5                            Axel F (Official Video)   5070365475  \n",
      "6  Dame Tu Cosita feat. Cutty Ranks (Official Vid...   4988390880  \n",
      "7                                                NaN   4429925977  \n",
      "8                       Sugar (Official Music Video)   4198406054  \n",
      "9  Waka Waka (This Time for Africa) (The Official...   4176655547  \n",
      "\n",
      "Views Distribution Analysis:\n",
      "count    2.500000e+03\n",
      "mean     7.766757e+08\n",
      "std      6.021257e+08\n",
      "min      3.643821e+08\n",
      "25%      4.423650e+08\n",
      "50%      5.757849e+08\n",
      "75%      8.643879e+08\n",
      "max      8.669536e+09\n",
      "Name: Total Views, dtype: float64\n",
      "\n",
      "Artists with Most Videos in Top List:\n",
      "Artist\n",
      "Justin Bieber       20\n",
      "Marília Mendonça    17\n",
      "Rihanna             16\n",
      "BLACKPINK           16\n",
      "Ed Sheeran          16\n",
      "Name: count, dtype: int64\n"
     ]
    }
   ],
   "source": [
    "# ========== DATA ANALYSIS ==========\n",
    "\n",
    "# Top 10 most viewed videos\n",
    "print(\"\\nTop 10 Most Viewed Videos:\")\n",
    "print(df.nlargest(10, 'Total Views')[['Artist', 'Title', 'Total Views']])\n",
    "\n",
    "# Views distribution analysis\n",
    "views_stats = df['Total Views'].describe()\n",
    "print(\"\\nViews Distribution Analysis:\")\n",
    "print(views_stats)\n",
    "\n",
    "# Artist with most videos in the list\n",
    "artist_counts = df['Artist'].value_counts()\n",
    "print(\"\\nArtists with Most Videos in Top List:\")\n",
    "print(artist_counts.head())\n"
   ]
  },
  {
   "cell_type": "markdown",
   "metadata": {},
   "source": [
    "## 12. Save the Cleaned and Normalized Data\n",
    "\n",
    "Finally, we save the cleaned and normalized data into CSV files to make it available for future use or sharing.\n"
   ]
  },
  {
   "cell_type": "code",
   "execution_count": null,
   "metadata": {},
   "outputs": [
    {
     "name": "stdout",
     "output_type": "stream",
     "text": [
      "\n",
      "=== Cleaned dataset saved as 'cleaned_dataset.csv' ===\n",
      "Normalized dataset saved as 'normalized_dataset.csv'\n"
     ]
    }
   ],
   "source": [
    "# ========== SAVE CLEANED DATA ==========\n",
    "\n",
    "df.to_csv(datasets_path / \"music_videos_cleaned.csv\", index=False)\n",
    "print(\"\\n=== Cleaned dataset saved as 'music_videos_cleaned.csv' ===\")\n",
    "\n",
    "# Additional saving of normalized data\n",
    "df_normalized.to_csv(datasets_path / \"music_videos_normalized.csv\", index=False)\n",
    "print(\"Normalized dataset saved as 'music_videos_normalized.csv'\")\n"
   ]
  }
 ],
 "metadata": {
  "kernelspec": {
   "display_name": "Python 3",
   "language": "python",
   "name": "python3"
  },
  "language_info": {
   "codemirror_mode": {
    "name": "ipython",
    "version": 3
   },
   "file_extension": ".py",
   "mimetype": "text/x-python",
   "name": "python",
   "nbconvert_exporter": "python",
   "pygments_lexer": "ipython3",
   "version": "3.13.2"
  }
 },
 "nbformat": 4,
 "nbformat_minor": 4
}
