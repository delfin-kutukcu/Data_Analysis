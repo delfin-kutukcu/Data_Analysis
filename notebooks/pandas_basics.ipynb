﻿{
 "cells": [
  {
   "cell_type": "markdown",
   "metadata": {},
   "source": [
    "# Basic Data Analysis with Pandas"
   ]
  },
  {
   "cell_type": "code",
   "execution_count": null,
   "metadata": {},
   "outputs": [],
   "source": [
    "import pandas as pd\n",
    "import matplotlib.pyplot as plt\n",
    "\n",
    "# Load dataset\n",
    "df = pd.read_csv('../datasets/cleaned_dataset.csv')\n",
    "\n",
    "# Basic analysis\n",
    "print(df.describe())\n",
    "\n",
    "# Simple visualization\n",
    "df['Total Views'].plot(kind='hist', bins=20)\n",
    "plt.title('Distribution of Video Views')\n",
    "plt.savefig('../visuals/views_distribution.png')"
   ]
  }
 ],
 "metadata": {
  "kernelspec": {
   "display_name": "Python 3",
   "language": "python",
   "name": "python3"
  }
 },
 "nbformat": 4,
 "nbformat_minor": 4
}
